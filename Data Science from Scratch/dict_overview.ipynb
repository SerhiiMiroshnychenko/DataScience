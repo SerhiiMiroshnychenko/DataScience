{
 "cells": [
  {
   "cell_type": "code",
   "id": "initial_id",
   "metadata": {
    "collapsed": true,
    "ExecuteTime": {
     "end_time": "2025-04-21T12:38:59.529289Z",
     "start_time": "2025-04-21T12:38:59.526364Z"
    }
   },
   "source": [
    "document = '''\n",
    "Ще не вмерла Україна, і слава, і воля,\n",
    "Ще нам, браття молодії, усміхнеться доля.\n",
    "Згинуть наші вороженьки, як роса на сонці,\n",
    "Запануєм і ми, браття, у своїй сторонці.\n",
    "'''.replace('\\n', ' ').replace(',', ' ').replace('.', ' ').split(' ')\n",
    "document = [world for world in document if world != '']\n",
    "\n",
    "print(f\"{document = }\")"
   ],
   "outputs": [
    {
     "name": "stdout",
     "output_type": "stream",
     "text": [
      "document = ['Ще', 'не', 'вмерла', 'Україна', 'і', 'слава', 'і', 'воля', 'Ще', 'нам', 'браття', 'молодії', 'усміхнеться', 'доля', 'Згинуть', 'наші', 'вороженьки', 'як', 'роса', 'на', 'сонці', 'Запануєм', 'і', 'ми', 'браття', 'у', 'своїй', 'сторонці']\n"
     ]
    }
   ],
   "execution_count": 38
  },
  {
   "metadata": {
    "ExecuteTime": {
     "end_time": "2025-04-21T12:38:59.557013Z",
     "start_time": "2025-04-21T12:38:59.553727Z"
    }
   },
   "cell_type": "code",
   "source": [
    "word_counts = {}\n",
    "for word in document:\n",
    "    if word in word_counts:\n",
    "        word_counts[word] += 1\n",
    "    else:\n",
    "        word_counts[word] = 1\n",
    "\n",
    "print(f\"{word_counts = }\")"
   ],
   "id": "3c59ed2861e8289d",
   "outputs": [
    {
     "name": "stdout",
     "output_type": "stream",
     "text": [
      "word_counts = {'Ще': 2, 'не': 1, 'вмерла': 1, 'Україна': 1, 'і': 3, 'слава': 1, 'воля': 1, 'нам': 1, 'браття': 2, 'молодії': 1, 'усміхнеться': 1, 'доля': 1, 'Згинуть': 1, 'наші': 1, 'вороженьки': 1, 'як': 1, 'роса': 1, 'на': 1, 'сонці': 1, 'Запануєм': 1, 'ми': 1, 'у': 1, 'своїй': 1, 'сторонці': 1}\n"
     ]
    }
   ],
   "execution_count": 39
  },
  {
   "metadata": {
    "ExecuteTime": {
     "end_time": "2025-04-21T12:38:59.583497Z",
     "start_time": "2025-04-21T12:38:59.580651Z"
    }
   },
   "cell_type": "code",
   "source": [
    "word_counts = {}\n",
    "for word in document:\n",
    "    try:\n",
    "        word_counts[word] += 1\n",
    "    except KeyError:\n",
    "        word_counts[word] = 1\n",
    "\n",
    "print(f\"{word_counts = }\")"
   ],
   "id": "cb13754f8e9be78d",
   "outputs": [
    {
     "name": "stdout",
     "output_type": "stream",
     "text": [
      "word_counts = {'Ще': 2, 'не': 1, 'вмерла': 1, 'Україна': 1, 'і': 3, 'слава': 1, 'воля': 1, 'нам': 1, 'браття': 2, 'молодії': 1, 'усміхнеться': 1, 'доля': 1, 'Згинуть': 1, 'наші': 1, 'вороженьки': 1, 'як': 1, 'роса': 1, 'на': 1, 'сонці': 1, 'Запануєм': 1, 'ми': 1, 'у': 1, 'своїй': 1, 'сторонці': 1}\n"
     ]
    }
   ],
   "execution_count": 40
  },
  {
   "metadata": {
    "ExecuteTime": {
     "end_time": "2025-04-21T12:38:59.610070Z",
     "start_time": "2025-04-21T12:38:59.606631Z"
    }
   },
   "cell_type": "code",
   "source": [
    "word_counts = {}\n",
    "for word in document:\n",
    "    previous_count = word_counts.get(word, 0)\n",
    "    word_counts[word] = previous_count + 1\n",
    "\n",
    "print(f\"{word_counts = }\")"
   ],
   "id": "159ec7accea3b599",
   "outputs": [
    {
     "name": "stdout",
     "output_type": "stream",
     "text": [
      "word_counts = {'Ще': 2, 'не': 1, 'вмерла': 1, 'Україна': 1, 'і': 3, 'слава': 1, 'воля': 1, 'нам': 1, 'браття': 2, 'молодії': 1, 'усміхнеться': 1, 'доля': 1, 'Згинуть': 1, 'наші': 1, 'вороженьки': 1, 'як': 1, 'роса': 1, 'на': 1, 'сонці': 1, 'Запануєм': 1, 'ми': 1, 'у': 1, 'своїй': 1, 'сторонці': 1}\n"
     ]
    }
   ],
   "execution_count": 41
  },
  {
   "metadata": {
    "ExecuteTime": {
     "end_time": "2025-04-21T12:38:59.638747Z",
     "start_time": "2025-04-21T12:38:59.635948Z"
    }
   },
   "cell_type": "code",
   "source": [
    "from collections import defaultdict\n",
    "\n",
    "word_counts = defaultdict(int)          # int() produces 0\n",
    "\n",
    "print(f\"{word_counts = }\")"
   ],
   "id": "37cd5296b68edc5c",
   "outputs": [
    {
     "name": "stdout",
     "output_type": "stream",
     "text": [
      "word_counts = defaultdict(<class 'int'>, {})\n"
     ]
    }
   ],
   "execution_count": 42
  },
  {
   "metadata": {
    "ExecuteTime": {
     "end_time": "2025-04-21T12:38:59.670727Z",
     "start_time": "2025-04-21T12:38:59.667645Z"
    }
   },
   "cell_type": "code",
   "source": [
    "for word in document:\n",
    "    word_counts[word] += 1\n",
    "\n",
    "print(f\"{word_counts = }\")"
   ],
   "id": "167752e870b6d1e",
   "outputs": [
    {
     "name": "stdout",
     "output_type": "stream",
     "text": [
      "word_counts = defaultdict(<class 'int'>, {'Ще': 2, 'не': 1, 'вмерла': 1, 'Україна': 1, 'і': 3, 'слава': 1, 'воля': 1, 'нам': 1, 'браття': 2, 'молодії': 1, 'усміхнеться': 1, 'доля': 1, 'Згинуть': 1, 'наші': 1, 'вороженьки': 1, 'як': 1, 'роса': 1, 'на': 1, 'сонці': 1, 'Запануєм': 1, 'ми': 1, 'у': 1, 'своїй': 1, 'сторонці': 1})\n"
     ]
    }
   ],
   "execution_count": 43
  },
  {
   "metadata": {
    "ExecuteTime": {
     "end_time": "2025-04-21T12:38:59.697186Z",
     "start_time": "2025-04-21T12:38:59.694607Z"
    }
   },
   "cell_type": "code",
   "source": [
    "dd_list = defaultdict(list)             # list() produces an empty list\n",
    "print(f\"{dd_list = }\")"
   ],
   "id": "891a6ae2b012e92a",
   "outputs": [
    {
     "name": "stdout",
     "output_type": "stream",
     "text": [
      "dd_list = defaultdict(<class 'list'>, {})\n"
     ]
    }
   ],
   "execution_count": 44
  },
  {
   "metadata": {
    "ExecuteTime": {
     "end_time": "2025-04-21T12:38:59.745353Z",
     "start_time": "2025-04-21T12:38:59.741704Z"
    }
   },
   "cell_type": "code",
   "source": [
    "dd_list[2].append(1)                    # now dd_list contains {2: [1]}\n",
    "dd_list"
   ],
   "id": "e06798810f1b421",
   "outputs": [
    {
     "data": {
      "text/plain": [
       "defaultdict(list, {2: [1]})"
      ]
     },
     "execution_count": 45,
     "metadata": {},
     "output_type": "execute_result"
    }
   ],
   "execution_count": 45
  },
  {
   "metadata": {
    "ExecuteTime": {
     "end_time": "2025-04-21T12:39:26.081434Z",
     "start_time": "2025-04-21T12:39:26.077285Z"
    }
   },
   "cell_type": "code",
   "source": [
    "dd_dict = defaultdict(dict)             # dict() produces an empty dict\n",
    "dd_dict"
   ],
   "id": "b7512b7fb05db19c",
   "outputs": [
    {
     "data": {
      "text/plain": [
       "defaultdict(dict, {})"
      ]
     },
     "execution_count": 46,
     "metadata": {},
     "output_type": "execute_result"
    }
   ],
   "execution_count": 46
  },
  {
   "metadata": {
    "ExecuteTime": {
     "end_time": "2025-04-21T12:39:56.248496Z",
     "start_time": "2025-04-21T12:39:56.244700Z"
    }
   },
   "cell_type": "code",
   "source": [
    "dd_dict[\"Joel\"][\"City\"] = \"Seattle\"     # {\"Joel\" : {\"City\": Seattle\"}}\n",
    "dd_dict"
   ],
   "id": "4685a105d0af0418",
   "outputs": [
    {
     "data": {
      "text/plain": [
       "defaultdict(dict, {'Joel': {'City': 'Seattle'}})"
      ]
     },
     "execution_count": 50,
     "metadata": {},
     "output_type": "execute_result"
    }
   ],
   "execution_count": 50
  },
  {
   "metadata": {
    "ExecuteTime": {
     "end_time": "2025-04-21T12:40:50.160366Z",
     "start_time": "2025-04-21T12:40:50.156644Z"
    }
   },
   "cell_type": "code",
   "source": [
    "dd_pair = defaultdict(lambda: [0, 0])\n",
    "print(f\"{dd_pair = }\")\n",
    "dd_pair"
   ],
   "id": "7f6a83a33f9aa271",
   "outputs": [
    {
     "name": "stdout",
     "output_type": "stream",
     "text": [
      "dd_pair = defaultdict(<function <lambda> at 0x000001B0F74F1E40>, {})\n"
     ]
    },
    {
     "data": {
      "text/plain": [
       "defaultdict(<function __main__.<lambda>()>, {})"
      ]
     },
     "execution_count": 52,
     "metadata": {},
     "output_type": "execute_result"
    }
   ],
   "execution_count": 52
  },
  {
   "metadata": {
    "ExecuteTime": {
     "end_time": "2025-04-21T12:41:30.199503Z",
     "start_time": "2025-04-21T12:41:30.195682Z"
    }
   },
   "cell_type": "code",
   "source": [
    "dd_pair[2][1] = 1\n",
    "print(f\"{dd_pair = }\")\n",
    "dd_pair"
   ],
   "id": "e264363cb91e912",
   "outputs": [
    {
     "name": "stdout",
     "output_type": "stream",
     "text": [
      "dd_pair = defaultdict(<function <lambda> at 0x000001B0F74F1E40>, {2: [0, 1]})\n"
     ]
    },
    {
     "data": {
      "text/plain": [
       "defaultdict(<function __main__.<lambda>()>, {2: [0, 1]})"
      ]
     },
     "execution_count": 55,
     "metadata": {},
     "output_type": "execute_result"
    }
   ],
   "execution_count": 55
  },
  {
   "metadata": {},
   "cell_type": "code",
   "outputs": [],
   "execution_count": null,
   "source": "",
   "id": "e70b740644f36934"
  }
 ],
 "metadata": {
  "kernelspec": {
   "display_name": "Python 3",
   "language": "python",
   "name": "python3"
  },
  "language_info": {
   "codemirror_mode": {
    "name": "ipython",
    "version": 2
   },
   "file_extension": ".py",
   "mimetype": "text/x-python",
   "name": "python",
   "nbconvert_exporter": "python",
   "pygments_lexer": "ipython2",
   "version": "2.7.6"
  }
 },
 "nbformat": 4,
 "nbformat_minor": 5
}
