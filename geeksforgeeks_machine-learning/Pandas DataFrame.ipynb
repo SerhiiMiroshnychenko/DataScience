{
 "cells": [
  {
   "metadata": {},
   "cell_type": "markdown",
   "source": "# Pandas DataFrame",
   "id": "577a2f796baafea0"
  },
  {
   "metadata": {},
   "cell_type": "markdown",
   "source": [
    "Pandas DataFrame  — це двовимірна, що змінює розмір, потенційно неоднорідна таблична структура даних із позначеними осями (рядки та стовпці).\n",
    "\n",
    "Data frame — це двовимірна структура даних, тобто дані вирівнюються в табличному вигляді в рядках і стовпцях.\n",
    "\n",
    "Pandas DataFrame складається з трьох основних компонентів:  data, rows, and columns."
   ],
   "id": "ac50477273543dfc"
  },
  {
   "metadata": {},
   "cell_type": "markdown",
   "source": [
    "**Creating a Pandas DataFrame**\n",
    "\n",
    "Pandas DataFrame буде створено шляхом завантаження наборів даних із наявного сховища, сховищем може бути база даних SQL, файл CSV і файл Excel.\n",
    "\n",
    "Pandas DataFrame можна створити зі списків, словника, зі списку словника тощо.\n",
    "\n",
    "Ось кілька способів створення фрейму даних:"
   ],
   "id": "21d294c4f640a0f9"
  },
  {
   "metadata": {},
   "cell_type": "markdown",
   "source": "`Creating a dataframe using List`:  DataFrame можна створити за допомогою одного списку або списку списків.",
   "id": "62b72585be2dcaa5"
  },
  {
   "metadata": {
    "ExecuteTime": {
     "end_time": "2025-04-22T17:55:11.879146Z",
     "start_time": "2025-04-22T17:55:11.874507Z"
    }
   },
   "cell_type": "code",
   "source": [
    "import pandas as pd\n",
    "\n",
    "# list of strings\n",
    "lst = ['Geeks', 'For', 'Geeks', 'is',\n",
    "            'portal', 'for', 'Geeks']\n",
    "\n",
    "# Calling DataFrame constructor on list\n",
    "df = pd.DataFrame(lst)\n",
    "print(df)"
   ],
   "id": "b2fb68c7f0647bc4",
   "outputs": [
    {
     "name": "stdout",
     "output_type": "stream",
     "text": [
      "        0\n",
      "0   Geeks\n",
      "1     For\n",
      "2   Geeks\n",
      "3      is\n",
      "4  portal\n",
      "5     for\n",
      "6   Geeks\n"
     ]
    }
   ],
   "execution_count": 18
  },
  {
   "metadata": {
    "ExecuteTime": {
     "end_time": "2025-04-22T17:55:11.921292Z",
     "start_time": "2025-04-22T17:55:11.916194Z"
    }
   },
   "cell_type": "code",
   "source": "df",
   "id": "2273b1c78e8f14e2",
   "outputs": [
    {
     "data": {
      "text/plain": [
       "        0\n",
       "0   Geeks\n",
       "1     For\n",
       "2   Geeks\n",
       "3      is\n",
       "4  portal\n",
       "5     for\n",
       "6   Geeks"
      ],
      "text/html": [
       "<div>\n",
       "<style scoped>\n",
       "    .dataframe tbody tr th:only-of-type {\n",
       "        vertical-align: middle;\n",
       "    }\n",
       "\n",
       "    .dataframe tbody tr th {\n",
       "        vertical-align: top;\n",
       "    }\n",
       "\n",
       "    .dataframe thead th {\n",
       "        text-align: right;\n",
       "    }\n",
       "</style>\n",
       "<table border=\"1\" class=\"dataframe\">\n",
       "  <thead>\n",
       "    <tr style=\"text-align: right;\">\n",
       "      <th></th>\n",
       "      <th>0</th>\n",
       "    </tr>\n",
       "  </thead>\n",
       "  <tbody>\n",
       "    <tr>\n",
       "      <th>0</th>\n",
       "      <td>Geeks</td>\n",
       "    </tr>\n",
       "    <tr>\n",
       "      <th>1</th>\n",
       "      <td>For</td>\n",
       "    </tr>\n",
       "    <tr>\n",
       "      <th>2</th>\n",
       "      <td>Geeks</td>\n",
       "    </tr>\n",
       "    <tr>\n",
       "      <th>3</th>\n",
       "      <td>is</td>\n",
       "    </tr>\n",
       "    <tr>\n",
       "      <th>4</th>\n",
       "      <td>portal</td>\n",
       "    </tr>\n",
       "    <tr>\n",
       "      <th>5</th>\n",
       "      <td>for</td>\n",
       "    </tr>\n",
       "    <tr>\n",
       "      <th>6</th>\n",
       "      <td>Geeks</td>\n",
       "    </tr>\n",
       "  </tbody>\n",
       "</table>\n",
       "</div>"
      ]
     },
     "execution_count": 19,
     "metadata": {},
     "output_type": "execute_result"
    }
   ],
   "execution_count": 19
  },
  {
   "metadata": {},
   "cell_type": "markdown",
   "source": [
    "`Creating DataFrame from dict of ndarray/lists`: Щоб створити DataFrame з dict narray/list, увесь narray має бути однакової довжини.\n",
    "\n",
    "Якщо передається індекс, то індекс довжини має дорівнювати довжині масивів.\n",
    "\n",
    "Якщо індекс не передано, то за замовчуванням індекс буде діапазоном (n), де n — довжина масиву."
   ],
   "id": "48ed4c9a9cc8a048"
  },
  {
   "metadata": {
    "ExecuteTime": {
     "end_time": "2025-04-22T17:55:11.962798Z",
     "start_time": "2025-04-22T17:55:11.958357Z"
    }
   },
   "cell_type": "code",
   "source": [
    "# DataFrame from dict narray / lists\n",
    "# By default addresses.\n",
    "\n",
    "# intialise data of lists.\n",
    "data = {'Name':['Tom', 'nick', 'krish', 'jack'],\n",
    "        'Age':[20, 21, 19, 18]}\n",
    "\n",
    "# Create DataFrame\n",
    "df = pd.DataFrame(data)\n",
    "\n",
    "# Print the output.\n",
    "print(df)"
   ],
   "id": "fdf53b812e651c8f",
   "outputs": [
    {
     "name": "stdout",
     "output_type": "stream",
     "text": [
      "    Name  Age\n",
      "0    Tom   20\n",
      "1   nick   21\n",
      "2  krish   19\n",
      "3   jack   18\n"
     ]
    }
   ],
   "execution_count": 20
  },
  {
   "metadata": {
    "ExecuteTime": {
     "end_time": "2025-04-22T17:55:12.025591Z",
     "start_time": "2025-04-22T17:55:12.020353Z"
    }
   },
   "cell_type": "code",
   "source": "df",
   "id": "1a217a2a8673f1ea",
   "outputs": [
    {
     "data": {
      "text/plain": [
       "    Name  Age\n",
       "0    Tom   20\n",
       "1   nick   21\n",
       "2  krish   19\n",
       "3   jack   18"
      ],
      "text/html": [
       "<div>\n",
       "<style scoped>\n",
       "    .dataframe tbody tr th:only-of-type {\n",
       "        vertical-align: middle;\n",
       "    }\n",
       "\n",
       "    .dataframe tbody tr th {\n",
       "        vertical-align: top;\n",
       "    }\n",
       "\n",
       "    .dataframe thead th {\n",
       "        text-align: right;\n",
       "    }\n",
       "</style>\n",
       "<table border=\"1\" class=\"dataframe\">\n",
       "  <thead>\n",
       "    <tr style=\"text-align: right;\">\n",
       "      <th></th>\n",
       "      <th>Name</th>\n",
       "      <th>Age</th>\n",
       "    </tr>\n",
       "  </thead>\n",
       "  <tbody>\n",
       "    <tr>\n",
       "      <th>0</th>\n",
       "      <td>Tom</td>\n",
       "      <td>20</td>\n",
       "    </tr>\n",
       "    <tr>\n",
       "      <th>1</th>\n",
       "      <td>nick</td>\n",
       "      <td>21</td>\n",
       "    </tr>\n",
       "    <tr>\n",
       "      <th>2</th>\n",
       "      <td>krish</td>\n",
       "      <td>19</td>\n",
       "    </tr>\n",
       "    <tr>\n",
       "      <th>3</th>\n",
       "      <td>jack</td>\n",
       "      <td>18</td>\n",
       "    </tr>\n",
       "  </tbody>\n",
       "</table>\n",
       "</div>"
      ]
     },
     "execution_count": 21,
     "metadata": {},
     "output_type": "execute_result"
    }
   ],
   "execution_count": 21
  },
  {
   "metadata": {},
   "cell_type": "markdown",
   "source": [
    "`Creating an Empty DataFrame`: Порожній DataFrame у pandas — це таблиця без даних, але може мати визначені назви стовпців та індекси.\n",
    "\n",
    "Це корисно для налаштування структури перед динамічним додаванням даних.\n",
    "\n",
    "Порожній DataFrame можна створити, просто викликавши конструктор dataframe."
   ],
   "id": "b025c8e3e3040891"
  },
  {
   "metadata": {
    "ExecuteTime": {
     "end_time": "2025-04-22T17:55:12.097528Z",
     "start_time": "2025-04-22T17:55:12.093093Z"
    }
   },
   "cell_type": "code",
   "source": [
    "df = pd.DataFrame()\n",
    "print(df)"
   ],
   "id": "33e57d6a4b10ce21",
   "outputs": [
    {
     "name": "stdout",
     "output_type": "stream",
     "text": [
      "Empty DataFrame\n",
      "Columns: []\n",
      "Index: []\n"
     ]
    }
   ],
   "execution_count": 22
  },
  {
   "metadata": {},
   "cell_type": "markdown",
   "source": [
    "`Creating DataFrame from dict of Numpy Array`: Ми можемо створити Pandas DataFrame за допомогою словника масивів NumPy.\n",
    "\n",
    " Кожен ключ у словнику представляє назву стовпця, а відповідний масив NumPy надає значення для цього стовпця."
   ],
   "id": "701bd73fc207c973"
  },
  {
   "metadata": {
    "ExecuteTime": {
     "end_time": "2025-04-22T17:55:45.962332Z",
     "start_time": "2025-04-22T17:55:45.958229Z"
    }
   },
   "cell_type": "code",
   "source": [
    "import numpy as np\n",
    "\n",
    "data = np.array([[1, 2, 3], [4, 5, 6], [7, 8, 9]])\n",
    "df = pd.DataFrame(data, columns=['A', 'B', 'C'])\n",
    "print(df)"
   ],
   "id": "7409b21d9a1fe444",
   "outputs": [
    {
     "name": "stdout",
     "output_type": "stream",
     "text": [
      "   A  B  C\n",
      "0  1  2  3\n",
      "1  4  5  6\n",
      "2  7  8  9\n"
     ]
    }
   ],
   "execution_count": 23
  },
  {
   "metadata": {
    "ExecuteTime": {
     "end_time": "2025-04-22T17:56:00.323637Z",
     "start_time": "2025-04-22T17:56:00.317845Z"
    }
   },
   "cell_type": "code",
   "source": "df",
   "id": "c146aa9a380811a4",
   "outputs": [
    {
     "data": {
      "text/plain": [
       "   A  B  C\n",
       "0  1  2  3\n",
       "1  4  5  6\n",
       "2  7  8  9"
      ],
      "text/html": [
       "<div>\n",
       "<style scoped>\n",
       "    .dataframe tbody tr th:only-of-type {\n",
       "        vertical-align: middle;\n",
       "    }\n",
       "\n",
       "    .dataframe tbody tr th {\n",
       "        vertical-align: top;\n",
       "    }\n",
       "\n",
       "    .dataframe thead th {\n",
       "        text-align: right;\n",
       "    }\n",
       "</style>\n",
       "<table border=\"1\" class=\"dataframe\">\n",
       "  <thead>\n",
       "    <tr style=\"text-align: right;\">\n",
       "      <th></th>\n",
       "      <th>A</th>\n",
       "      <th>B</th>\n",
       "      <th>C</th>\n",
       "    </tr>\n",
       "  </thead>\n",
       "  <tbody>\n",
       "    <tr>\n",
       "      <th>0</th>\n",
       "      <td>1</td>\n",
       "      <td>2</td>\n",
       "      <td>3</td>\n",
       "    </tr>\n",
       "    <tr>\n",
       "      <th>1</th>\n",
       "      <td>4</td>\n",
       "      <td>5</td>\n",
       "      <td>6</td>\n",
       "    </tr>\n",
       "    <tr>\n",
       "      <th>2</th>\n",
       "      <td>7</td>\n",
       "      <td>8</td>\n",
       "      <td>9</td>\n",
       "    </tr>\n",
       "  </tbody>\n",
       "</table>\n",
       "</div>"
      ]
     },
     "execution_count": 24,
     "metadata": {},
     "output_type": "execute_result"
    }
   ],
   "execution_count": 24
  },
  {
   "metadata": {},
   "cell_type": "markdown",
   "source": [
    "`Creating a DataFrame from a List of Dictionaries`: Ми також можемо створити фрейм даних за допомогою списку словників.\n",
    "\n",
    "Він представляє дані, де кожен словник відповідає рядку.\n",
    "\n",
    "Цей метод корисний для обробки структурованих даних з API або файлів JSON.\n",
    "\n",
    "Він зазвичай використовується для веб-скопіювання та обробки даних API, оскільки відповіді JSON часто містять списки словників."
   ],
   "id": "98c28635bbd2e6d3"
  },
  {
   "metadata": {
    "ExecuteTime": {
     "end_time": "2025-04-22T17:57:21.660330Z",
     "start_time": "2025-04-22T17:57:21.654838Z"
    }
   },
   "cell_type": "code",
   "source": [
    "dict_ = {'name':[\"aparna\", \"pankaj\", \"sudhir\", \"Geeku\"],\n",
    "        'degree': [\"MBA\", \"BCA\", \"M.Tech\", \"MBA\"],\n",
    "        'score':[90, 40, 80, 98]}\n",
    "\n",
    "df = pd.DataFrame(dict_)\n",
    "\n",
    "print(df)"
   ],
   "id": "328112e7054e5567",
   "outputs": [
    {
     "name": "stdout",
     "output_type": "stream",
     "text": [
      "     name  degree  score\n",
      "0  aparna     MBA     90\n",
      "1  pankaj     BCA     40\n",
      "2  sudhir  M.Tech     80\n",
      "3   Geeku     MBA     98\n"
     ]
    }
   ],
   "execution_count": 25
  },
  {
   "metadata": {
    "ExecuteTime": {
     "end_time": "2025-04-22T17:57:28.203827Z",
     "start_time": "2025-04-22T17:57:28.198231Z"
    }
   },
   "cell_type": "code",
   "source": "df",
   "id": "b5ced447da2a53ad",
   "outputs": [
    {
     "data": {
      "text/plain": [
       "     name  degree  score\n",
       "0  aparna     MBA     90\n",
       "1  pankaj     BCA     40\n",
       "2  sudhir  M.Tech     80\n",
       "3   Geeku     MBA     98"
      ],
      "text/html": [
       "<div>\n",
       "<style scoped>\n",
       "    .dataframe tbody tr th:only-of-type {\n",
       "        vertical-align: middle;\n",
       "    }\n",
       "\n",
       "    .dataframe tbody tr th {\n",
       "        vertical-align: top;\n",
       "    }\n",
       "\n",
       "    .dataframe thead th {\n",
       "        text-align: right;\n",
       "    }\n",
       "</style>\n",
       "<table border=\"1\" class=\"dataframe\">\n",
       "  <thead>\n",
       "    <tr style=\"text-align: right;\">\n",
       "      <th></th>\n",
       "      <th>name</th>\n",
       "      <th>degree</th>\n",
       "      <th>score</th>\n",
       "    </tr>\n",
       "  </thead>\n",
       "  <tbody>\n",
       "    <tr>\n",
       "      <th>0</th>\n",
       "      <td>aparna</td>\n",
       "      <td>MBA</td>\n",
       "      <td>90</td>\n",
       "    </tr>\n",
       "    <tr>\n",
       "      <th>1</th>\n",
       "      <td>pankaj</td>\n",
       "      <td>BCA</td>\n",
       "      <td>40</td>\n",
       "    </tr>\n",
       "    <tr>\n",
       "      <th>2</th>\n",
       "      <td>sudhir</td>\n",
       "      <td>M.Tech</td>\n",
       "      <td>80</td>\n",
       "    </tr>\n",
       "    <tr>\n",
       "      <th>3</th>\n",
       "      <td>Geeku</td>\n",
       "      <td>MBA</td>\n",
       "      <td>98</td>\n",
       "    </tr>\n",
       "  </tbody>\n",
       "</table>\n",
       "</div>"
      ]
     },
     "execution_count": 26,
     "metadata": {},
     "output_type": "execute_result"
    }
   ],
   "execution_count": 26
  },
  {
   "metadata": {},
   "cell_type": "markdown",
   "source": "## Pandas Create Dataframe Syntax",
   "id": "bad5e46cc1002bac"
  },
  {
   "metadata": {},
   "cell_type": "markdown",
   "source": [
    "#### `pandas.DataFrame(data, index, columns)`\n",
    "\n",
    "Parameters:\n",
    "* `data`: Це набір даних, з якого буде створено DataFrame. Це може бути список, словник, скалярне значення, ряди та масиви тощо.\n",
    "* `index`: Необов’язковий, за замовчуванням індекс DataFrame починається з 0 і закінчується останнім значенням даних (n-1). Він явно визначає мітку рядка.\n",
    "* `columns`: Цей параметр використовується для надання імен стовпців у DataFrame. Якщо назва стовпця не визначена за замовчуванням, воно прийматиме значення від 0 до n-1.\n",
    "\n",
    "Returns:\n",
    "* `DataFrame` object"
   ],
   "id": "248d5f0f2db0740b"
  },
  {
   "metadata": {},
   "cell_type": "markdown",
   "source": "`Creating a DataFrame from Lists or Arrays`:",
   "id": "8dea4afb75711a85"
  },
  {
   "metadata": {
    "ExecuteTime": {
     "end_time": "2025-04-22T18:04:28.985500Z",
     "start_time": "2025-04-22T18:04:28.980604Z"
    }
   },
   "cell_type": "code",
   "source": [
    "# initialize list of lists\n",
    "data = [['tom', 10], ['nick', 15], ['juli', 14]]\n",
    "\n",
    "# Create the pandas DataFrame\n",
    "df = pd.DataFrame(data, columns=['Name', 'Age'])\n",
    "print(df)"
   ],
   "id": "6676b14b08a9fef1",
   "outputs": [
    {
     "name": "stdout",
     "output_type": "stream",
     "text": [
      "   Name  Age\n",
      "0   tom   10\n",
      "1  nick   15\n",
      "2  juli   14\n"
     ]
    }
   ],
   "execution_count": 27
  },
  {
   "metadata": {
    "ExecuteTime": {
     "end_time": "2025-04-22T18:04:39.163619Z",
     "start_time": "2025-04-22T18:04:39.158373Z"
    }
   },
   "cell_type": "code",
   "source": "df",
   "id": "d4a851c56efa83a",
   "outputs": [
    {
     "data": {
      "text/plain": [
       "   Name  Age\n",
       "0   tom   10\n",
       "1  nick   15\n",
       "2  juli   14"
      ],
      "text/html": [
       "<div>\n",
       "<style scoped>\n",
       "    .dataframe tbody tr th:only-of-type {\n",
       "        vertical-align: middle;\n",
       "    }\n",
       "\n",
       "    .dataframe tbody tr th {\n",
       "        vertical-align: top;\n",
       "    }\n",
       "\n",
       "    .dataframe thead th {\n",
       "        text-align: right;\n",
       "    }\n",
       "</style>\n",
       "<table border=\"1\" class=\"dataframe\">\n",
       "  <thead>\n",
       "    <tr style=\"text-align: right;\">\n",
       "      <th></th>\n",
       "      <th>Name</th>\n",
       "      <th>Age</th>\n",
       "    </tr>\n",
       "  </thead>\n",
       "  <tbody>\n",
       "    <tr>\n",
       "      <th>0</th>\n",
       "      <td>tom</td>\n",
       "      <td>10</td>\n",
       "    </tr>\n",
       "    <tr>\n",
       "      <th>1</th>\n",
       "      <td>nick</td>\n",
       "      <td>15</td>\n",
       "    </tr>\n",
       "    <tr>\n",
       "      <th>2</th>\n",
       "      <td>juli</td>\n",
       "      <td>14</td>\n",
       "    </tr>\n",
       "  </tbody>\n",
       "</table>\n",
       "</div>"
      ]
     },
     "execution_count": 28,
     "metadata": {},
     "output_type": "execute_result"
    }
   ],
   "execution_count": 28
  },
  {
   "metadata": {},
   "cell_type": "markdown",
   "source": "**Пояснення**: щоб створити Pandas DataFrame зі списку списків, ви можете використати функцію pd.DataFrame(). Ця функція приймає список списків як вхідні дані та створює DataFrame з тією ж кількістю рядків і стовпців, що й у вхідному списку.",
   "id": "ea6188f8a2513ad"
  },
  {
   "metadata": {},
   "cell_type": "markdown",
   "source": "`Create DataFrame from List of Dictionaries`",
   "id": "f4bc1f247b32a9f7"
  },
  {
   "metadata": {
    "ExecuteTime": {
     "end_time": "2025-04-22T18:06:04.800153Z",
     "start_time": "2025-04-22T18:06:04.795023Z"
    }
   },
   "cell_type": "code",
   "source": [
    "# Initialize data to lists.\n",
    "data = [{'a': 1, 'b': 2, 'c': 3},\n",
    "        {'a': 10, 'b': 20, 'c': 30}]\n",
    "\n",
    "# Creates DataFrame.\n",
    "df = pd.DataFrame(data)\n",
    "print(df)"
   ],
   "id": "2533db9a6eff0d2c",
   "outputs": [
    {
     "name": "stdout",
     "output_type": "stream",
     "text": [
      "    a   b   c\n",
      "0   1   2   3\n",
      "1  10  20  30\n"
     ]
    }
   ],
   "execution_count": 29
  },
  {
   "metadata": {},
   "cell_type": "markdown",
   "source": [
    "**Пояснення**: Pandas DataFrame можна створити шляхом передачі списків словників як вхідних даних. За замовчуванням ключі словника будуть прийняті як стовпці.\n",
    "\n",
    "Іншим прикладом є створення Pandas DataFrame шляхом передачі списків словників та **індексів рядків**."
   ],
   "id": "6679f097bee8f028"
  },
  {
   "metadata": {
    "ExecuteTime": {
     "end_time": "2025-04-22T18:07:07.992347Z",
     "start_time": "2025-04-22T18:07:07.985536Z"
    }
   },
   "cell_type": "code",
   "source": [
    "# Initialize data of lists\n",
    "data = [{'b': 2, 'c': 3}, {'a': 10, 'b': 20, 'c': 30}]\n",
    "\n",
    "# Creates pandas DataFrame by passing\n",
    "# Lists of dictionaries and row index.\n",
    "df = pd.DataFrame(data, index=['first', 'second'])\n",
    "print(df)"
   ],
   "id": "fd78a9e6db0d27a6",
   "outputs": [
    {
     "name": "stdout",
     "output_type": "stream",
     "text": [
      "         b   c     a\n",
      "first    2   3   NaN\n",
      "second  20  30  10.0\n"
     ]
    }
   ],
   "execution_count": 30
  },
  {
   "metadata": {},
   "cell_type": "markdown",
   "source": "`Creating a DataFrame from Another DataFrame`",
   "id": "2b78256325caffc4"
  },
  {
   "metadata": {
    "ExecuteTime": {
     "end_time": "2025-04-22T18:07:41.247354Z",
     "start_time": "2025-04-22T18:07:41.234341Z"
    }
   },
   "cell_type": "code",
   "source": [
    "original_df = pd.DataFrame({\n",
    "    'Name': ['Tom', 'Nick', 'Krish', 'Jack'],\n",
    "    'Age': [20, 21, 19, 18]\n",
    "})\n",
    "\n",
    "new_df = original_df[['Name']]\n",
    "print(new_df)"
   ],
   "id": "9fe21363dce2f5d5",
   "outputs": [
    {
     "name": "stdout",
     "output_type": "stream",
     "text": [
      "    Name\n",
      "0    Tom\n",
      "1   Nick\n",
      "2  Krish\n",
      "3   Jack\n"
     ]
    }
   ],
   "execution_count": 31
  },
  {
   "metadata": {},
   "cell_type": "markdown",
   "source": "**Пояснення**: ви можете створити новий DataFrame на основі існуючого DataFrame, вибравши певні стовпці або рядки.",
   "id": "c7fddc88255cff49"
  },
  {
   "metadata": {},
   "cell_type": "markdown",
   "source": "`Create DataFrame from a Dictionary of Series`",
   "id": "bb1fa9dc8ae3b27f"
  },
  {
   "metadata": {
    "ExecuteTime": {
     "end_time": "2025-04-22T18:08:38.543822Z",
     "start_time": "2025-04-22T18:08:38.538102Z"
    }
   },
   "cell_type": "code",
   "source": [
    "# Initialize data to Dicts of series.\n",
    "d = {'one': pd.Series([10, 20, 30, 40],\n",
    "                      index=['a', 'b', 'c', 'd']),\n",
    "     'two': pd.Series([10, 20, 30, 40],\n",
    "                      index=['a', 'b', 'c', 'd'])}\n",
    "\n",
    "# creates Dataframe.\n",
    "df = pd.DataFrame(d)\n",
    "print(df)"
   ],
   "id": "a9e84dde8a3c89eb",
   "outputs": [
    {
     "name": "stdout",
     "output_type": "stream",
     "text": [
      "   one  two\n",
      "a   10   10\n",
      "b   20   20\n",
      "c   30   30\n",
      "d   40   40\n"
     ]
    }
   ],
   "execution_count": 32
  },
  {
   "metadata": {},
   "cell_type": "markdown",
   "source": [
    "**Пояснення**: щоб створити фрейм даних у Python зі словника `series`, можна передати словник для формування DataFrame. Результуючий індекс є об'єднанням усіх серій пройдених індексованих.\n",
    "\n",
    "https://www.geeksforgeeks.org/python-pandas-series/"
   ],
   "id": "2b81983e91e02efe"
  },
  {
   "metadata": {},
   "cell_type": "markdown",
   "source": "`Create DataFrame using the zip() function`",
   "id": "2093f8007ab2955a"
  },
  {
   "metadata": {
    "ExecuteTime": {
     "end_time": "2025-04-22T18:11:26.281815Z",
     "start_time": "2025-04-22T18:11:26.276912Z"
    }
   },
   "cell_type": "code",
   "source": [
    "# List1\n",
    "Name = ['tom', 'krish', 'nick', 'juli']\n",
    "\n",
    "# List2\n",
    "Age = [25, 30, 26, 22]\n",
    "\n",
    "# get the list of tuples from two lists.\n",
    "# and merge them by using zip().\n",
    "list_of_tuples = list(zip(Name, Age))\n",
    "\n",
    "# Assign data to tuples.\n",
    "list_of_tuples"
   ],
   "id": "dcdbc1b15a8d17f8",
   "outputs": [
    {
     "data": {
      "text/plain": [
       "[('tom', 25), ('krish', 30), ('nick', 26), ('juli', 22)]"
      ]
     },
     "execution_count": 33,
     "metadata": {},
     "output_type": "execute_result"
    }
   ],
   "execution_count": 33
  },
  {
   "metadata": {
    "ExecuteTime": {
     "end_time": "2025-04-22T18:11:28.680833Z",
     "start_time": "2025-04-22T18:11:28.675628Z"
    }
   },
   "cell_type": "code",
   "source": [
    "# Converting lists of tuples into\n",
    "# pandas Dataframe.\n",
    "df = pd.DataFrame(list_of_tuples,\n",
    "                  columns=['Name', 'Age'])\n",
    "\n",
    "print(df)"
   ],
   "id": "b5e63cb49edb09ca",
   "outputs": [
    {
     "name": "stdout",
     "output_type": "stream",
     "text": [
      "    Name  Age\n",
      "0    tom   25\n",
      "1  krish   30\n",
      "2   nick   26\n",
      "3   juli   22\n"
     ]
    }
   ],
   "execution_count": 34
  },
  {
   "metadata": {},
   "cell_type": "markdown",
   "source": "**Пояснення**: два списки можна об’єднати за допомогою функції `zip()`. Тепер створіть Pandas DataFrame, викликавши функцію pd.DataFrame().",
   "id": "db9c40c0ee89164b"
  },
  {
   "metadata": {},
   "cell_type": "markdown",
   "source": "`Create a DataFrame by Proving the Index Label Explicitly`",
   "id": "532443c4d214b59a"
  },
  {
   "metadata": {
    "ExecuteTime": {
     "end_time": "2025-04-22T18:12:44.839607Z",
     "start_time": "2025-04-22T18:12:44.834927Z"
    }
   },
   "cell_type": "code",
   "source": [
    "# initialize data of lists.\n",
    "data = {'Name': ['Tom', 'Jack', 'nick', 'juli'],\n",
    "        'marks': [99, 98, 95, 90]}\n",
    "# Creates pandas DataFrame.\n",
    "df = pd.DataFrame(data, index=['rank1',\n",
    "                               'rank2',\n",
    "                               'rank3',\n",
    "                               'rank4'])\n",
    "# print the data\n",
    "print(df)"
   ],
   "id": "57cdef2ec44afa14",
   "outputs": [
    {
     "name": "stdout",
     "output_type": "stream",
     "text": [
      "       Name  marks\n",
      "rank1   Tom     99\n",
      "rank2  Jack     98\n",
      "rank3  nick     95\n",
      "rank4  juli     90\n"
     ]
    }
   ],
   "execution_count": 35
  },
  {
   "metadata": {},
   "cell_type": "markdown",
   "source": "**Пояснення**: щоб створити DataFrame шляхом явного надання мітки індексу, ви можете використати параметр index конструктора pd.DataFrame(). Параметр index приймає список міток індексу як вхідні дані, і DataFrame використовуватиме ці мітки для рядків DataFrame.",
   "id": "cc49d6123979d80f"
  },
  {
   "metadata": {},
   "cell_type": "markdown",
   "source": [
    "## Dealing with Rows and Columns in Pandas DataFrame\n",
    "https://www.geeksforgeeks.org/python-pandas-dataframe/"
   ],
   "id": "8139fafc5cf40d84"
  }
 ],
 "metadata": {
  "kernelspec": {
   "display_name": "Python 3",
   "language": "python",
   "name": "python3"
  },
  "language_info": {
   "codemirror_mode": {
    "name": "ipython",
    "version": 2
   },
   "file_extension": ".py",
   "mimetype": "text/x-python",
   "name": "python",
   "nbconvert_exporter": "python",
   "pygments_lexer": "ipython2",
   "version": "2.7.6"
  }
 },
 "nbformat": 4,
 "nbformat_minor": 5
}
