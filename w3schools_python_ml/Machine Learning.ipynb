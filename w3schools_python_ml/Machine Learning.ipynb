{
 "cells": [
  {
   "metadata": {},
   "cell_type": "markdown",
   "source": "# Machine Learning",
   "id": "77039d2e54b969de"
  },
  {
   "metadata": {},
   "cell_type": "markdown",
   "source": [
    "**Типи даних**\n",
    "\n",
    "Для аналізу даних важливо знати, з якими типами даних ми маємо справу.\n",
    "\n",
    "Ми можемо розділити типи даних на три основні категорії:\n",
    "\n",
    "- Числовий\n",
    "- Категоріальний\n",
    "- Порядковий\n",
    "-\n",
    "Числові дані є числами, і їх можна розділити на дві числові категорії:\n",
    "\n",
    "Дискретні дані\n",
    "- підраховані дані, обмежені цілими числами. Приклад: кількість автомобілів, що проїжджають.\n",
    "Безперервні дані\n",
    "- виміряні дані, які можуть бути будь-якими. Приклад: ціна товару або розмір товару\n",
    "\n",
    "Категоріальні дані – це значення, які не можна порівняти одне з одним. Приклад: значення кольору або будь-які значення так/ні.\n",
    "\n",
    "Порядкові дані схожі на категоріальні дані, але їх можна порівняти один з одним.\n",
    "Приклад: шкільні оцінки, де А краще, ніж Б тощо.\n",
    "\n",
    "Знаючи тип даних вашого джерела даних, ви зможете знати, яку техніку використовувати під час їх аналізу."
   ],
   "id": "961d22c330b705a1"
  },
  {
   "metadata": {},
   "cell_type": "markdown",
   "source": "### Mean, Median, and Mode",
   "id": "484bbdfa97512e94"
  },
  {
   "metadata": {},
   "cell_type": "markdown",
   "source": [
    "Що ми можемо дізнатися, дивлячись на групу чисел?\n",
    "\n",
    "У машинному навчанні (і в математиці) часто нас цікавлять три значення:\n",
    "\n",
    "- `Mean` - середнє значення\n",
    "- `Median` - середнє значення\n",
    "- `Mode` - найпоширеніше значення\n",
    "\n",
    "Приклад: ми зареєстрували швидкість 13 автомобілів:"
   ],
   "id": "acf3dc43b542dcd4"
  },
  {
   "metadata": {
    "ExecuteTime": {
     "end_time": "2025-04-22T15:11:19.132427Z",
     "start_time": "2025-04-22T15:11:19.129742Z"
    }
   },
   "cell_type": "code",
   "source": "speed = [99,86,87,88,111,86,103,87,94,78,77,85,86]",
   "id": "11d37bd81c1b9a83",
   "outputs": [],
   "execution_count": 27
  },
  {
   "metadata": {},
   "cell_type": "markdown",
   "source": "Яке середнє, середнє чи найпоширеніше значення швидкості?",
   "id": "a41ddf59a044e560"
  },
  {
   "metadata": {},
   "cell_type": "markdown",
   "source": [
    "**Mean**\n",
    "\n",
    "*Mean* значення є середнім значенням.\n",
    "Щоб обчислити середнє значення, знайдіть суму всіх значень і розділіть суму на кількість значень:\n",
    "$$(99+86+87+88+111+86+103+87+94+78+77+85+86) / 13 = 89.77$$"
   ],
   "id": "e5c0b51d8e5e3a3c"
  },
  {
   "metadata": {
    "ExecuteTime": {
     "end_time": "2025-04-22T15:11:19.148897Z",
     "start_time": "2025-04-22T15:11:19.146468Z"
    }
   },
   "cell_type": "code",
   "source": [
    "x = sum(speed) / len(speed)\n",
    "print(f\"{x = }\")"
   ],
   "id": "10a02309ea332a9d",
   "outputs": [
    {
     "name": "stdout",
     "output_type": "stream",
     "text": [
      "x = 89.76923076923077\n"
     ]
    }
   ],
   "execution_count": 28
  },
  {
   "metadata": {},
   "cell_type": "markdown",
   "source": "Модуль NumPy має метод для цього.",
   "id": "a356e1ef65b94fe7"
  },
  {
   "metadata": {
    "ExecuteTime": {
     "end_time": "2025-04-22T15:11:19.177435Z",
     "start_time": "2025-04-22T15:11:19.174564Z"
    }
   },
   "cell_type": "code",
   "source": [
    "import numpy\n",
    "\n",
    "x = numpy.mean(speed)\n",
    "print('x =', x)"
   ],
   "id": "8dc3069d2d494ac3",
   "outputs": [
    {
     "name": "stdout",
     "output_type": "stream",
     "text": [
      "x = 89.76923076923077\n"
     ]
    }
   ],
   "execution_count": 29
  },
  {
   "metadata": {
    "ExecuteTime": {
     "end_time": "2025-04-22T15:11:19.201983Z",
     "start_time": "2025-04-22T15:11:19.198881Z"
    }
   },
   "cell_type": "code",
   "source": "print(f\"{x = }\")",
   "id": "158c612df97462a4",
   "outputs": [
    {
     "name": "stdout",
     "output_type": "stream",
     "text": [
      "x = np.float64(89.76923076923077)\n"
     ]
    }
   ],
   "execution_count": 30
  },
  {
   "metadata": {},
   "cell_type": "markdown",
   "source": [
    "**Median**\n",
    "\n",
    "*Median* – це значення посередині після того, як ви відсортували всі значення:\n",
    "\n",
    "77, 78, 85, 86, 86, 86, `87`, 87, 88, 94, 99, 103, 111\n",
    "\n",
    "*Важливо, щоб числа були відсортовані, перш ніж ви зможете знайти медіану.*\n",
    "\n",
    "Модуль NumPy має для цього метод:"
   ],
   "id": "af3748daf956fbfd"
  },
  {
   "metadata": {
    "ExecuteTime": {
     "end_time": "2025-04-22T15:11:19.226575Z",
     "start_time": "2025-04-22T15:11:19.224145Z"
    }
   },
   "cell_type": "code",
   "source": [
    "x = numpy.median(speed)\n",
    "\n",
    "print(x)"
   ],
   "id": "ac38a60d0f702f82",
   "outputs": [
    {
     "name": "stdout",
     "output_type": "stream",
     "text": [
      "87.0\n"
     ]
    }
   ],
   "execution_count": 31
  },
  {
   "metadata": {},
   "cell_type": "markdown",
   "source": [
    "*Якщо в середині є два числа, поділіть суму цих чисел на два.*\n",
    "\n",
    "77, 78, 85, 86, 86, `86`, `87`, 87, 94, 98, 99, 103\n",
    "\n",
    "$$(86 + 87) / 2 = 86.5$$"
   ],
   "id": "480ac7dceabcb421"
  },
  {
   "metadata": {
    "ExecuteTime": {
     "end_time": "2025-04-22T15:11:19.272415Z",
     "start_time": "2025-04-22T15:11:19.268721Z"
    }
   },
   "cell_type": "code",
   "source": [
    "speed2 = [99,86,87,88,86,103,87,94,78,77,85,86]\n",
    "\n",
    "x = numpy.median(speed2)\n",
    "\n",
    "print(x)"
   ],
   "id": "8165e85e603bb4f7",
   "outputs": [
    {
     "name": "stdout",
     "output_type": "stream",
     "text": [
      "86.5\n"
     ]
    }
   ],
   "execution_count": 32
  },
  {
   "metadata": {},
   "cell_type": "markdown",
   "source": "**Mode**",
   "id": "dd06c7ec3fd5e7f4"
  },
  {
   "metadata": {},
   "cell_type": "markdown",
   "source": [
    "Значення *Mode* — це значення, яке з’являється найбільшу кількість разів:\n",
    "\n",
    "99, `86`, 87, 88, 111, `86`, 103, 87, 94, 78, 77, 85, `86` = $86$\n",
    "\n",
    "Модуль SciPy має для цього метод."
   ],
   "id": "b16e3a066bc2c585"
  },
  {
   "metadata": {
    "ExecuteTime": {
     "end_time": "2025-04-22T15:11:19.316730Z",
     "start_time": "2025-04-22T15:11:19.313346Z"
    }
   },
   "cell_type": "code",
   "source": [
    "from scipy import stats\n",
    "\n",
    "x = stats.mode(speed)\n",
    "\n",
    "print(x)"
   ],
   "id": "56acb7ed72868d79",
   "outputs": [
    {
     "name": "stdout",
     "output_type": "stream",
     "text": [
      "ModeResult(mode=np.int64(86), count=np.int64(3))\n"
     ]
    }
   ],
   "execution_count": 33
  },
  {
   "metadata": {},
   "cell_type": "markdown",
   "source": "Середнє значення, медіана та мода – це методи, які часто використовуються в машинному навчанні, тому важливо розуміти концепцію, що стоїть за ними.",
   "id": "c53210d9d7843a22"
  }
 ],
 "metadata": {
  "kernelspec": {
   "display_name": "Python 3",
   "language": "python",
   "name": "python3"
  },
  "language_info": {
   "codemirror_mode": {
    "name": "ipython",
    "version": 2
   },
   "file_extension": ".py",
   "mimetype": "text/x-python",
   "name": "python",
   "nbconvert_exporter": "python",
   "pygments_lexer": "ipython2",
   "version": "2.7.6"
  }
 },
 "nbformat": 4,
 "nbformat_minor": 5
}
