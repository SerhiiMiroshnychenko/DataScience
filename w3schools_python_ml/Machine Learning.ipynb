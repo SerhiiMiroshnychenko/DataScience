{
 "cells": [
  {
   "metadata": {},
   "cell_type": "markdown",
   "source": "# Machine Learning",
   "id": "77039d2e54b969de"
  },
  {
   "metadata": {},
   "cell_type": "markdown",
   "source": [
    "**Типи даних**\n",
    "\n",
    "Для аналізу даних важливо знати, з якими типами даних ми маємо справу.\n",
    "\n",
    "Ми можемо розділити типи даних на три основні категорії:\n",
    "\n",
    "- Числовий\n",
    "- Категоріальний\n",
    "- Порядковий\n",
    "-\n",
    "Числові дані є числами, і їх можна розділити на дві числові категорії:\n",
    "\n",
    "Дискретні дані\n",
    "- підраховані дані, обмежені цілими числами. Приклад: кількість автомобілів, що проїжджають.\n",
    "Безперервні дані\n",
    "- виміряні дані, які можуть бути будь-якими. Приклад: ціна товару або розмір товару\n",
    "\n",
    "Категоріальні дані – це значення, які не можна порівняти одне з одним. Приклад: значення кольору або будь-які значення так/ні.\n",
    "\n",
    "Порядкові дані схожі на категоріальні дані, але їх можна порівняти один з одним.\n",
    "Приклад: шкільні оцінки, де А краще, ніж Б тощо.\n",
    "\n",
    "Знаючи тип даних вашого джерела даних, ви зможете знати, яку техніку використовувати під час їх аналізу."
   ],
   "id": "961d22c330b705a1"
  },
  {
   "metadata": {},
   "cell_type": "markdown",
   "source": "### Mean, Median, and Mode",
   "id": "484bbdfa97512e94"
  },
  {
   "metadata": {},
   "cell_type": "markdown",
   "source": [
    "Що ми можемо дізнатися, дивлячись на групу чисел?\n",
    "\n",
    "У машинному навчанні (і в математиці) часто нас цікавлять три значення:\n",
    "\n",
    "- `Mean` - середнє значення\n",
    "- `Median` - середнє значення\n",
    "- `Mode` - найпоширеніше значення\n",
    "\n",
    "Приклад: ми зареєстрували швидкість 13 автомобілів:"
   ],
   "id": "acf3dc43b542dcd4"
  },
  {
   "metadata": {
    "ExecuteTime": {
     "end_time": "2025-04-23T07:17:30.434741Z",
     "start_time": "2025-04-23T07:17:30.432075Z"
    }
   },
   "cell_type": "code",
   "source": "speed = [99,86,87,88,111,86,103,87,94,78,77,85,86]",
   "id": "11d37bd81c1b9a83",
   "outputs": [],
   "execution_count": 47
  },
  {
   "metadata": {},
   "cell_type": "markdown",
   "source": "Яке середнє, середнє чи найпоширеніше значення швидкості?",
   "id": "a41ddf59a044e560"
  },
  {
   "metadata": {},
   "cell_type": "markdown",
   "source": [
    "**Mean**\n",
    "\n",
    "*Mean* значення є середнім значенням.\n",
    "Щоб обчислити середнє значення, знайдіть суму всіх значень і розділіть суму на кількість значень:\n",
    "$$(99+86+87+88+111+86+103+87+94+78+77+85+86) / 13 = 89.77$$"
   ],
   "id": "e5c0b51d8e5e3a3c"
  },
  {
   "metadata": {
    "ExecuteTime": {
     "end_time": "2025-04-23T07:17:30.451960Z",
     "start_time": "2025-04-23T07:17:30.449419Z"
    }
   },
   "cell_type": "code",
   "source": [
    "x = sum(speed) / len(speed)\n",
    "print(f\"{x = }\")"
   ],
   "id": "10a02309ea332a9d",
   "outputs": [
    {
     "name": "stdout",
     "output_type": "stream",
     "text": [
      "x = 89.76923076923077\n"
     ]
    }
   ],
   "execution_count": 48
  },
  {
   "metadata": {},
   "cell_type": "markdown",
   "source": "Модуль NumPy має метод для цього.",
   "id": "a356e1ef65b94fe7"
  },
  {
   "metadata": {
    "ExecuteTime": {
     "end_time": "2025-04-23T07:17:30.481086Z",
     "start_time": "2025-04-23T07:17:30.478175Z"
    }
   },
   "cell_type": "code",
   "source": [
    "import numpy\n",
    "\n",
    "x = numpy.mean(speed)\n",
    "print('x =', x)"
   ],
   "id": "8dc3069d2d494ac3",
   "outputs": [
    {
     "name": "stdout",
     "output_type": "stream",
     "text": [
      "x = 89.76923076923077\n"
     ]
    }
   ],
   "execution_count": 49
  },
  {
   "metadata": {
    "ExecuteTime": {
     "end_time": "2025-04-23T07:17:30.514160Z",
     "start_time": "2025-04-23T07:17:30.511342Z"
    }
   },
   "cell_type": "code",
   "source": "print(f\"{x = }\")",
   "id": "158c612df97462a4",
   "outputs": [
    {
     "name": "stdout",
     "output_type": "stream",
     "text": [
      "x = np.float64(89.76923076923077)\n"
     ]
    }
   ],
   "execution_count": 50
  },
  {
   "metadata": {},
   "cell_type": "markdown",
   "source": [
    "**Median**\n",
    "\n",
    "*Median* – це значення посередині після того, як ви відсортували всі значення:\n",
    "\n",
    "77, 78, 85, 86, 86, 86, `87`, 87, 88, 94, 99, 103, 111\n",
    "\n",
    "*Важливо, щоб числа були відсортовані, перш ніж ви зможете знайти медіану.*\n",
    "\n",
    "Модуль NumPy має для цього метод:"
   ],
   "id": "af3748daf956fbfd"
  },
  {
   "metadata": {
    "ExecuteTime": {
     "end_time": "2025-04-23T07:17:30.546995Z",
     "start_time": "2025-04-23T07:17:30.544159Z"
    }
   },
   "cell_type": "code",
   "source": [
    "x = numpy.median(speed)\n",
    "\n",
    "print(x)"
   ],
   "id": "ac38a60d0f702f82",
   "outputs": [
    {
     "name": "stdout",
     "output_type": "stream",
     "text": [
      "87.0\n"
     ]
    }
   ],
   "execution_count": 51
  },
  {
   "metadata": {},
   "cell_type": "markdown",
   "source": [
    "*Якщо в середині є два числа, поділіть суму цих чисел на два.*\n",
    "\n",
    "77, 78, 85, 86, 86, `86`, `87`, 87, 94, 98, 99, 103\n",
    "\n",
    "$$(86 + 87) / 2 = 86.5$$"
   ],
   "id": "480ac7dceabcb421"
  },
  {
   "metadata": {
    "ExecuteTime": {
     "end_time": "2025-04-23T07:17:30.580499Z",
     "start_time": "2025-04-23T07:17:30.576108Z"
    }
   },
   "cell_type": "code",
   "source": [
    "speed2 = [99,86,87,88,86,103,87,94,78,77,85,86]\n",
    "\n",
    "x = numpy.median(speed2)\n",
    "\n",
    "print(x)"
   ],
   "id": "8165e85e603bb4f7",
   "outputs": [
    {
     "name": "stdout",
     "output_type": "stream",
     "text": [
      "86.5\n"
     ]
    }
   ],
   "execution_count": 52
  },
  {
   "metadata": {},
   "cell_type": "markdown",
   "source": "**Mode**",
   "id": "dd06c7ec3fd5e7f4"
  },
  {
   "metadata": {},
   "cell_type": "markdown",
   "source": [
    "Значення *Mode* — це значення, яке з’являється найбільшу кількість разів:\n",
    "\n",
    "99, `86`, 87, 88, 111, `86`, 103, 87, 94, 78, 77, 85, `86` = $86$\n",
    "\n",
    "Модуль SciPy має для цього метод."
   ],
   "id": "b16e3a066bc2c585"
  },
  {
   "metadata": {
    "ExecuteTime": {
     "end_time": "2025-04-23T07:17:30.616175Z",
     "start_time": "2025-04-23T07:17:30.612791Z"
    }
   },
   "cell_type": "code",
   "source": [
    "from scipy import stats\n",
    "\n",
    "x = stats.mode(speed)\n",
    "\n",
    "print(x)"
   ],
   "id": "56acb7ed72868d79",
   "outputs": [
    {
     "name": "stdout",
     "output_type": "stream",
     "text": [
      "ModeResult(mode=np.int64(86), count=np.int64(3))\n"
     ]
    }
   ],
   "execution_count": 53
  },
  {
   "metadata": {},
   "cell_type": "markdown",
   "source": "Середнє значення, медіана та мода – це методи, які часто використовуються в машинному навчанні, тому важливо розуміти концепцію, що стоїть за ними.",
   "id": "c53210d9d7843a22"
  },
  {
   "metadata": {},
   "cell_type": "markdown",
   "source": "### What is Standard Deviation?",
   "id": "835ac70578cf7155"
  },
  {
   "metadata": {},
   "cell_type": "markdown",
   "source": [
    "Стандартне відхилення – це число, яке описує, наскільки розкидані значення.\n",
    "\n",
    "Низьке стандартне відхилення означає, що більшість чисел близькі до середнього (середнього) значення.\n",
    "\n",
    "Високе стандартне відхилення означає, що значення розповсюджені в більш широкому діапазоні.\n",
    "\n",
    "Приклад: Цього разу ми зареєстрували швидкість 7 автомобілів:"
   ],
   "id": "b40cace8cd1414f7"
  },
  {
   "metadata": {
    "ExecuteTime": {
     "end_time": "2025-04-23T07:17:30.651577Z",
     "start_time": "2025-04-23T07:17:30.649400Z"
    }
   },
   "cell_type": "code",
   "source": "speed = [86,87,88,86,87,85,86]",
   "id": "dd23ebe80efb9009",
   "outputs": [],
   "execution_count": 54
  },
  {
   "metadata": {},
   "cell_type": "markdown",
   "source": "Стандартне відхилення: $0.9$ - Це означає, що більшість значень знаходяться в діапазоні 0,9 від середнього значення, яке становить 86,4.",
   "id": "5184d041bc2a8dd"
  },
  {
   "metadata": {},
   "cell_type": "markdown",
   "source": "Давайте зробимо те саме з вибором чисел із ширшим діапазоном:",
   "id": "7c681edfd1c069e9"
  },
  {
   "metadata": {
    "ExecuteTime": {
     "end_time": "2025-04-23T07:17:30.678919Z",
     "start_time": "2025-04-23T07:17:30.676148Z"
    }
   },
   "cell_type": "code",
   "source": "speed = [32,111,138,28,59,77,97]",
   "id": "5423a0c267643aa6",
   "outputs": [],
   "execution_count": 55
  },
  {
   "metadata": {},
   "cell_type": "markdown",
   "source": [
    "Стандартне відхилення: $37.85$ - Це означає, що більшість значень знаходиться в діапазоні 37,85 від середнього значення, яке становить 77,4.\n",
    "\n",
    "Як бачите, більш високе стандартне відхилення вказує на те, що значення розподілені в більш широкому діапазоні."
   ],
   "id": "bcce6f7576e9554e"
  },
  {
   "metadata": {},
   "cell_type": "markdown",
   "source": "Модуль NumPy має метод обчислення стандартного відхилення:",
   "id": "b72fd7a5ed04a8dc"
  },
  {
   "metadata": {
    "ExecuteTime": {
     "end_time": "2025-04-23T07:17:30.696997Z",
     "start_time": "2025-04-23T07:17:30.693710Z"
    }
   },
   "cell_type": "code",
   "source": [
    "speed = [86,87,88,86,87,85,86]\n",
    "\n",
    "x = numpy.std(speed)\n",
    "\n",
    "print(x)"
   ],
   "id": "82c451de24ac5935",
   "outputs": [
    {
     "name": "stdout",
     "output_type": "stream",
     "text": [
      "0.9035079029052513\n"
     ]
    }
   ],
   "execution_count": 56
  },
  {
   "metadata": {},
   "cell_type": "markdown",
   "source": [
    "### Формула обчислення\n",
    "\n",
    "Внутрішньо, стандартне відхилення обчислюється за такою формулою:\n",
    "\n",
    "1. Спочатку обчислюється середнє значення елементів масиву (якщо не передано через параметр `mean`)\n",
    "2. Для кожного елемента обчислюється квадрат різниці між ним і середнім значенням\n",
    "3. Сума цих квадратів ділиться на (N - ddof), де N — кількість елементів\n",
    "4. Результат — це квадратний корінь від отриманого значення\n",
    "\n",
    "Математично це виглядає так:\n",
    "```\n",
    "std = sqrt(sum(|x_i - mean|²) / (N - ddof))\n",
    "```\n",
    "\n",
    "Для комплексних чисел береться абсолютне значення різниці перед піднесенням до квадрату.\n",
    "\n",
    "### Використання ddof\n",
    "\n",
    "Параметр `ddof` (або `correction`) впливає на знаменник формули:\n",
    "- При `ddof=0` (за замовчуванням) це \"стандартне відхилення генеральної сукупності\"\n",
    "- При `ddof=1` це \"стандартне відхилення вибірки\" з поправкою Бесселя\n",
    "\n",
    "### Оптимізація з параметром mean\n",
    "\n",
    "Параметр `mean` дозволяє передати попередньо обчислене середнє значення, що може значно прискорити обчислення (до 30% за даними з прикладу у документації), якщо середнє значення вже було обчислено раніше.\n",
    "\n",
    "### Типові випадки використання\n",
    "\n",
    "- Обчислення стандартного відхилення всього масиву: `np.std(a)`\n",
    "- Обчислення по осі: `np.std(a, axis=0)` або `np.std(a, axis=1)`\n",
    "- Обчислення з поправкою Бесселя: `np.std(a, ddof=1)`\n",
    "- Обчислення з вищою точністю: `np.std(a, dtype=np.float64)`\n",
    "\n",
    "Функція `std()` дуже корисна в статистичному аналізі даних для вимірювання розкиду значень відносно середнього."
   ],
   "id": "f375b8b288a763aa"
  },
  {
   "metadata": {
    "ExecuteTime": {
     "end_time": "2025-04-23T07:17:30.733349Z",
     "start_time": "2025-04-23T07:17:30.730244Z"
    }
   },
   "cell_type": "code",
   "source": [
    "speed = [32,111,138,28,59,77,97]\n",
    "\n",
    "x = numpy.std(speed)\n",
    "\n",
    "print(x)"
   ],
   "id": "59f8db183fe077c0",
   "outputs": [
    {
     "name": "stdout",
     "output_type": "stream",
     "text": [
      "37.84501153334721\n"
     ]
    }
   ],
   "execution_count": 57
  },
  {
   "metadata": {
    "ExecuteTime": {
     "end_time": "2025-04-23T07:17:30.869842Z",
     "start_time": "2025-04-23T07:17:30.865762Z"
    }
   },
   "cell_type": "code",
   "source": [
    "import math\n",
    "\n",
    "x2 = math.sqrt(sum([(i - numpy.mean(speed))**2 for i in speed]) / len(speed))\n",
    "\n",
    "x2"
   ],
   "id": "be0e7c71c153230b",
   "outputs": [
    {
     "data": {
      "text/plain": [
       "37.84501153334721"
      ]
     },
     "execution_count": 58,
     "metadata": {},
     "output_type": "execute_result"
    }
   ],
   "execution_count": 58
  },
  {
   "metadata": {
    "ExecuteTime": {
     "end_time": "2025-04-23T07:17:30.929994Z",
     "start_time": "2025-04-23T07:17:30.924741Z"
    }
   },
   "cell_type": "code",
   "source": [
    "x3 = math.sqrt(sum([(i - sum(speed) / len(speed))**2 for i in speed]) / len(speed))\n",
    "\n",
    "x3"
   ],
   "id": "d58d82bc3d8d4f2f",
   "outputs": [
    {
     "data": {
      "text/plain": [
       "37.84501153334722"
      ]
     },
     "execution_count": 59,
     "metadata": {},
     "output_type": "execute_result"
    }
   ],
   "execution_count": 59
  },
  {
   "metadata": {
    "ExecuteTime": {
     "end_time": "2025-04-23T07:17:31.039419Z",
     "start_time": "2025-04-23T07:17:31.036326Z"
    }
   },
   "cell_type": "code",
   "source": [
    "print(f\"{x2 = }\")\n",
    "print(f\"{x3 = }\")\n",
    "print(x2 == x3)"
   ],
   "id": "4f2cf63dc61f7b7b",
   "outputs": [
    {
     "name": "stdout",
     "output_type": "stream",
     "text": [
      "x2 = 37.84501153334721\n",
      "x3 = 37.84501153334722\n",
      "False\n"
     ]
    }
   ],
   "execution_count": 60
  },
  {
   "metadata": {
    "ExecuteTime": {
     "end_time": "2025-04-23T07:17:31.101304Z",
     "start_time": "2025-04-23T07:17:31.097785Z"
    }
   },
   "cell_type": "code",
   "source": [
    "# Використання math.isclose() (рекомендований спосіб у Python)\n",
    "print(math.isclose(x2, x3))  # True\n",
    "\n",
    "# Або перевірка, чи відрізняються значення менше, ніж на певну малу величину\n",
    "epsilon = 1e-10\n",
    "print(abs(x2 - x3) < epsilon)  # True\n",
    "\n",
    "# Або використання numpy\n",
    "print(numpy.isclose(x2, x3))  # True"
   ],
   "id": "cda97bf337a9beed",
   "outputs": [
    {
     "name": "stdout",
     "output_type": "stream",
     "text": [
      "True\n",
      "True\n",
      "True\n"
     ]
    }
   ],
   "execution_count": 61
  },
  {
   "metadata": {},
   "cell_type": "markdown",
   "source": "### Variance",
   "id": "abc978fe56cab030"
  },
  {
   "metadata": {},
   "cell_type": "markdown",
   "source": [
    "Дисперсія – це ще одне число, яке вказує на те, наскільки розкидані значення.\n",
    "\n",
    "Насправді, якщо взяти квадратний корінь з дисперсії, ви отримаєте стандартне відхилення!\n",
    "\n",
    "Або навпаки, якщо ви помножите стандартне відхилення саме на нього, ви отримаєте дисперсію!"
   ],
   "id": "58121bda66255841"
  },
  {
   "metadata": {},
   "cell_type": "markdown",
   "source": [
    "Щоб розрахувати дисперсію, потрібно зробити наступне:\n",
    "\n",
    "1. Знайти середнє:"
   ],
   "id": "6a40cbc204c9e241"
  },
  {
   "metadata": {
    "ExecuteTime": {
     "end_time": "2025-04-23T07:17:31.157400Z",
     "start_time": "2025-04-23T07:17:31.153954Z"
    }
   },
   "cell_type": "code",
   "source": [
    "m = sum(speed) / len(speed)\n",
    "print(f\"{m = }\")"
   ],
   "id": "2730482c043a41dc",
   "outputs": [
    {
     "name": "stdout",
     "output_type": "stream",
     "text": [
      "m = 77.42857142857143\n"
     ]
    }
   ],
   "execution_count": 62
  },
  {
   "metadata": {},
   "cell_type": "markdown",
   "source": "$(32+111+138+28+59+77+97) / 7 = 77.4$",
   "id": "8e7972b84e80cff1"
  },
  {
   "metadata": {},
   "cell_type": "markdown",
   "source": "2. Для кожного значення: знайти різницю від середнього:",
   "id": "a2a350458b9de25a"
  },
  {
   "metadata": {
    "ExecuteTime": {
     "end_time": "2025-04-23T07:17:31.204535Z",
     "start_time": "2025-04-23T07:17:31.200859Z"
    }
   },
   "cell_type": "code",
   "source": [
    "delta = [i - m for i in speed]\n",
    "delta"
   ],
   "id": "589fa11ecc250ece",
   "outputs": [
    {
     "data": {
      "text/plain": [
       "[-45.42857142857143,\n",
       " 33.57142857142857,\n",
       " 60.57142857142857,\n",
       " -49.42857142857143,\n",
       " -18.42857142857143,\n",
       " -0.4285714285714306,\n",
       " 19.57142857142857]"
      ]
     },
     "execution_count": 63,
     "metadata": {},
     "output_type": "execute_result"
    }
   ],
   "execution_count": 63
  },
  {
   "metadata": {},
   "cell_type": "markdown",
   "source": [
    "32 - 77.4 = -45.4\n",
    "\n",
    "111 - 77.4 =  33.6\n",
    "\n",
    "138 - 77.4 =  60.6\n",
    "\n",
    "28 - 77.4 = -49.4\n",
    "\n",
    "59 - 77.4 = -18.4\n",
    "\n",
    "77 - 77.4 = - 0.4\n",
    "\n",
    "97 - 77.4 =  19.6"
   ],
   "id": "ab579ba0ffd2eec8"
  },
  {
   "metadata": {},
   "cell_type": "markdown",
   "source": "3. Для кожної різниці знайдіть значення квадрата:",
   "id": "8d9e3066ece700af"
  },
  {
   "metadata": {
    "ExecuteTime": {
     "end_time": "2025-04-23T07:17:31.247395Z",
     "start_time": "2025-04-23T07:17:31.243786Z"
    }
   },
   "cell_type": "code",
   "source": [
    "qd = [d**2 for d in delta]\n",
    "qd"
   ],
   "id": "8b3cdbd5e1bc3353",
   "outputs": [
    {
     "data": {
      "text/plain": [
       "[2063.7551020408164,\n",
       " 1127.0408163265304,\n",
       " 3668.8979591836733,\n",
       " 2443.183673469388,\n",
       " 339.6122448979593,\n",
       " 0.18367346938775683,\n",
       " 383.04081632653055]"
      ]
     },
     "execution_count": 64,
     "metadata": {},
     "output_type": "execute_result"
    }
   ],
   "execution_count": 64
  },
  {
   "metadata": {},
   "cell_type": "markdown",
   "source": [
    "(-45.4)2 = 2061.16\n",
    "\n",
    "(33.6)2 = 1128.96\n",
    "\n",
    "(60.6)2 = 3672.36\n",
    "\n",
    "(-49.4)2 = 2440.36\n",
    "\n",
    "(-18.4)2 =  338.56\n",
    "\n",
    "(- 0.4)2 =    0.16\n",
    "\n",
    "(19.6)2 =  384.16"
   ],
   "id": "d8e0d64891f55dfb"
  },
  {
   "metadata": {},
   "cell_type": "markdown",
   "source": "4. Дисперсія - це середнє число цих квадратів різниць:",
   "id": "5bdaeb58fa373cc0"
  },
  {
   "metadata": {
    "ExecuteTime": {
     "end_time": "2025-04-23T07:17:31.286017Z",
     "start_time": "2025-04-23T07:17:31.282140Z"
    }
   },
   "cell_type": "code",
   "source": [
    "V = sum(qd)/len(qd)\n",
    "V"
   ],
   "id": "66639d24b59cc98e",
   "outputs": [
    {
     "data": {
      "text/plain": [
       "1432.2448979591838"
      ]
     },
     "execution_count": 65,
     "metadata": {},
     "output_type": "execute_result"
    }
   ],
   "execution_count": 65
  },
  {
   "metadata": {},
   "cell_type": "markdown",
   "source": "$(2061.16+1128.96+3672.36+2440.36+338.56+0.16+384.16) / 7 = 1432.2$",
   "id": "37fcccca2f1ed086"
  },
  {
   "metadata": {},
   "cell_type": "markdown",
   "source": "На щастя, у NumPy є метод для обчислення дисперсії:",
   "id": "849b77d208ed8d87"
  },
  {
   "metadata": {
    "ExecuteTime": {
     "end_time": "2025-04-23T07:17:31.321597Z",
     "start_time": "2025-04-23T07:17:31.318807Z"
    }
   },
   "cell_type": "code",
   "source": [
    "v = numpy.var(speed)\n",
    "\n",
    "print(v)"
   ],
   "id": "49645814f430f7e2",
   "outputs": [
    {
     "name": "stdout",
     "output_type": "stream",
     "text": [
      "1432.2448979591834\n"
     ]
    }
   ],
   "execution_count": 66
  },
  {
   "metadata": {
    "ExecuteTime": {
     "end_time": "2025-04-23T07:17:31.364616Z",
     "start_time": "2025-04-23T07:17:31.361582Z"
    }
   },
   "cell_type": "code",
   "source": [
    "diff = V - v\n",
    "diff"
   ],
   "id": "98f063baf05967ef",
   "outputs": [
    {
     "data": {
      "text/plain": [
       "np.float64(4.547473508864641e-13)"
      ]
     },
     "execution_count": 67,
     "metadata": {},
     "output_type": "execute_result"
    }
   ],
   "execution_count": 67
  },
  {
   "metadata": {
    "ExecuteTime": {
     "end_time": "2025-04-23T07:17:31.394669Z",
     "start_time": "2025-04-23T07:17:31.391530Z"
    }
   },
   "cell_type": "code",
   "source": "float(diff)",
   "id": "264335014435f745",
   "outputs": [
    {
     "data": {
      "text/plain": [
       "4.547473508864641e-13"
      ]
     },
     "execution_count": 68,
     "metadata": {},
     "output_type": "execute_result"
    }
   ],
   "execution_count": 68
  },
  {
   "metadata": {},
   "cell_type": "markdown",
   "source": "### Standard Deviation",
   "id": "c0144eaaf0a21eef"
  },
  {
   "metadata": {},
   "cell_type": "markdown",
   "source": "Як ми дізналися, формула для визначення стандартного відхилення є квадратним коренем із дисперсії:",
   "id": "526296dd1cd2e09c"
  },
  {
   "metadata": {
    "ExecuteTime": {
     "end_time": "2025-04-23T07:17:31.435203Z",
     "start_time": "2025-04-23T07:17:31.431811Z"
    }
   },
   "cell_type": "code",
   "source": [
    "sd = math.sqrt(v)\n",
    "sd"
   ],
   "id": "1c8ff7872777bc7f",
   "outputs": [
    {
     "data": {
      "text/plain": [
       "37.84501153334721"
      ]
     },
     "execution_count": 69,
     "metadata": {},
     "output_type": "execute_result"
    }
   ],
   "execution_count": 69
  },
  {
   "metadata": {},
   "cell_type": "markdown",
   "source": "$\\sqrt{1432.25} = 37.85$",
   "id": "1d76d5b4133dfb44"
  },
  {
   "metadata": {},
   "cell_type": "markdown",
   "source": "Або, як у попередньому прикладі, використовуйте NumPy для обчислення стандартного відхилення:",
   "id": "b8ee3e0fcf37a9b4"
  },
  {
   "metadata": {
    "ExecuteTime": {
     "end_time": "2025-04-23T07:19:53.444295Z",
     "start_time": "2025-04-23T07:19:53.441604Z"
    }
   },
   "cell_type": "code",
   "source": [
    "sd = numpy.std(speed)\n",
    "\n",
    "print(sd)"
   ],
   "id": "8635709f7f963a07",
   "outputs": [
    {
     "name": "stdout",
     "output_type": "stream",
     "text": [
      "37.84501153334721\n"
     ]
    }
   ],
   "execution_count": 70
  },
  {
   "metadata": {},
   "cell_type": "markdown",
   "source": [
    "### Символи\n",
    "Стандартне відхилення часто позначається символом сигма: $\\sigma$\n",
    "\n",
    "Дисперсію часто позначають символом сигма-квадрат: $\\sigma^2$"
   ],
   "id": "69b220040e4cda55"
  },
  {
   "metadata": {},
   "cell_type": "markdown",
   "source": "Стандартне відхилення та дисперсія – це терміни, які часто використовуються в машинному навчанні, тому важливо розуміти, як їх отримати та концепцію, що стоїть за ними.",
   "id": "95d9f44eb45887bd"
  }
 ],
 "metadata": {
  "kernelspec": {
   "display_name": "Python 3",
   "language": "python",
   "name": "python3"
  },
  "language_info": {
   "codemirror_mode": {
    "name": "ipython",
    "version": 2
   },
   "file_extension": ".py",
   "mimetype": "text/x-python",
   "name": "python",
   "nbconvert_exporter": "python",
   "pygments_lexer": "ipython2",
   "version": "2.7.6"
  }
 },
 "nbformat": 4,
 "nbformat_minor": 5
}
