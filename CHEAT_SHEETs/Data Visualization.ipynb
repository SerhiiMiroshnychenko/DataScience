{
 "cells": [
  {
   "metadata": {},
   "cell_type": "markdown",
   "source": "## 📊 Python Data Visualization Cheatsheet for EDA",
   "id": "e83acaaafcf28834"
  },
  {
   "metadata": {},
   "cell_type": "markdown",
   "source": [
    "**1. Univariate Analysis**\n",
    "* `df.hist()` - # Quick histogram of numerical columns\n",
    "* `sns.boxplot(data=df, y='col')` - # Box plot showing distribution\n",
    "* `sns.kdeplot(data=df['col'])` - # Density plot for continuous variables\n",
    "* `df['col'].value_counts().plot(kind='bar')` - # Bar plot for categorical data"
   ],
   "id": "ee993a8f43b1a3cb"
  },
  {
   "metadata": {},
   "cell_type": "markdown",
   "source": [
    "**2. Bivariate Analysis**\n",
    "* `sns.scatterplot(data=df, x, y)` - # Relationship between two variables\n",
    "* `sns.regplot(data=df, x, y)` - # Scatter with regression line\n",
    "* `sns.barplot(x='x', y='data', data=df)` - # Compare categories with bars\n",
    "* `sns.violinplot(data=df, x, y)` - # Distribution by category\n",
    "* `sns.boxplot(x='x', y='data', data=df)` - # Compare distributions between categories"
   ],
   "id": "2001afba3f18e7bf"
  },
  {
   "metadata": {},
   "cell_type": "markdown",
   "source": [
    "**3. Multivariate Analysis**\n",
    "* `sns.pairplot(df)` - # Matrix of scatter plots\n",
    "* `sns.heatmap(df.corr(), annot=True)` - # Correlation matrix heatmap\n",
    "* `sns.jointplot(data=df, x='x', y='y', kind='scatter')` - # Combined distribution and scatter\n",
    "* `plt.scatter(x, y, c=z)` - # Scatter with color-coded third variable\n",
    "* `sns.scatterplot(x='x', y='y', hue='z', data=df)` - # Scatter with categorical third variable"
   ],
   "id": "3cf493fcb5297d13"
  },
  {
   "metadata": {},
   "cell_type": "markdown",
   "source": [
    "**4. Time Series Analysis**\n",
    "* `df.plot(x='date', y='value')` - # Basic time series plot\n",
    "* `df.rolling(window=N).mean().plot()` - # Moving average plot\n",
    "* `seasonal_decompose(df['col']).plot()` - # Decompose series into components\n",
    "* `sns.lineplot(data=df, x='date', y='value')` - # Time series with confidence intervals"
   ],
   "id": "ecf71a8a4c027859"
  },
  {
   "metadata": {},
   "cell_type": "markdown",
   "source": [
    "**5. Text Data Analysis**\n",
    "* `wordcloud.WordCloud().generate(text)` - # Generate word cloud from text\n",
    "* `nltk.FreqDist(words)` - # Word frequency distribution\n",
    "* `sns.barplot(x=words, y=frequencies)` - # Bar plot of word frequencies"
   ],
   "id": "16c80804931dc8d7"
  },
  {
   "metadata": {},
   "cell_type": "markdown",
   "source": [
    "**6. Customization**\n",
    "* `plt.title('Title')` - # Add title to plot\n",
    "* `plt.xlabel('X Label')` - # Add x-axis label\n",
    "* `plt.ylabel('Y Label')` - # Add y-axis label\n",
    "* `plt.xticks(rotation=45)` - # Rotate x-axis labels\n",
    "* `plt.tight_layout()` - # Adjust subplot parameters\n",
    "* `plt.figure(figsize=(10, 6))` - # Set figure size for plot"
   ],
   "id": "2e046eae189b6452"
  },
  {
   "metadata": {},
   "cell_type": "markdown",
   "source": [
    "**7. Saving & Displaying**\n",
    "* `plt.show()` - # Display the plot\n",
    "* `plt.savefig('filename.png')` - # Save plot to file\n",
    "* `plt.close()` - # Close current plot"
   ],
   "id": "ef4e0c54a715a3d2"
  }
 ],
 "metadata": {
  "kernelspec": {
   "display_name": "Python 3",
   "language": "python",
   "name": "python3"
  },
  "language_info": {
   "codemirror_mode": {
    "name": "ipython",
    "version": 2
   },
   "file_extension": ".py",
   "mimetype": "text/x-python",
   "name": "python",
   "nbconvert_exporter": "python",
   "pygments_lexer": "ipython2",
   "version": "2.7.6"
  }
 },
 "nbformat": 4,
 "nbformat_minor": 5
}
