{
 "cells": [
  {
   "metadata": {},
   "cell_type": "raw",
   "source": "",
   "id": "5fd6ac44be7dda35"
  },
  {
   "metadata": {},
   "cell_type": "markdown",
   "source": "## 9 Must-Know Python-Pandas Operations for Working with Data",
   "id": "692c074830093e6c"
  },
  {
   "metadata": {},
   "cell_type": "markdown",
   "source": [
    "**Data Import**\n",
    "* `pd.read_csv('file.csv')`\n",
    "* `pd.read_excel('file.xlsx', sheet_name='Sheet1')`\n",
    "* `pd.read_sql(query, connection)`\n",
    "* `pd.read_json('file.json')`\n",
    "* `pd.read_parquet('file.parquet')`"
   ],
   "id": "81dc5fb0c0391ce9"
  },
  {
   "metadata": {},
   "cell_type": "markdown",
   "source": [
    "**Data Manipulation**\n",
    "* `df.groupby('col').agg({'col2': ['mean', 'sum']})`\n",
    "* `df.merge(df2, on='key', how='left')`\n",
    "* `df.pivot_table(values='val', index='idx', columns='col')`\n",
    "* `df.sort_values(['col1', 'col2'])`\n",
    "* `df.melt(id_vars=['id'], value_vars=['A', 'B'])`\n",
    "* `df.apply(lambda x: x**2)` # Apply function"
   ],
   "id": "c5fa68a1751c43a5"
  },
  {
   "metadata": {},
   "cell_type": "markdown",
   "source": [
    "**Data Cleaning**\n",
    "* `df.dropna(subset=['col'], how='any')`\n",
    "* `df.fillna(method='ffill')` # Forward fill\n",
    "* `df.drop_duplicates(subset=['col'])`\n",
    "* `df.replace({'old': 'new'})`\n",
    "* `df['col'].astype('category')`\n",
    "* `df.interpolate(method='linear')`"
   ],
   "id": "cc2169001499a01b"
  },
  {
   "metadata": {},
   "cell_type": "markdown",
   "source": [
    "**String Operations**\n",
    "* `df['col'].str.contains('pattern')`\n",
    "* `df['col'].str.extract('([A-Za-z]+)')`\n",
    "* `df['col'].str.split('_').str[0]`\n",
    "* `df['col'].str.lower()`\n",
    "* `df['col'].str.strip()`\n",
    "* `df['col'].str.replace(r'\\s+', '_', regex=True)`"
   ],
   "id": "e096c67a3264fde"
  },
  {
   "metadata": {},
   "cell_type": "markdown",
   "source": [
    "**Data Export**\n",
    "* `df.to_csv('output.csv', index=False)`\n",
    "* `df.to_excel('output.xlsx', sheet_name='Sheet1')`\n",
    "* `df.to_parquet('output.parquet')`\n",
    "* `df.to_json('output.json', orient='records')`"
   ],
   "id": "337ef2310d658500"
  },
  {
   "metadata": {},
   "cell_type": "markdown",
   "source": [
    "**Data Selection**\n",
    "* `df['column']` # Single column\n",
    "* `df.loc['row', 'col']` # Label based\n",
    "* `df.iloc[0:5, 0:2]` # Integer based\n",
    "* `df.query('col > 5')` # SQL-like filtering\n",
    "* `df[df['col'].isin(['A', 'B'])]` # Multiple values"
   ],
   "id": "d10d2a39ae8f074a"
  },
  {
   "metadata": {},
   "cell_type": "markdown",
   "source": [
    "**Statistics**\n",
    "* `df.describe()` # Summary statistics\n",
    "* `df['col'].agg(['mean', 'median', 'std'])`\n",
    "* `df['col'].value_counts(normalize=True)`\n",
    "* `df.corr(method='pearson')`\n",
    "* `df.cov()` # Covariance matrix\n",
    "* `df.quantile([0.25, 0.5, 0.75])`"
   ],
   "id": "59d0a4d217705865"
  },
  {
   "metadata": {},
   "cell_type": "markdown",
   "source": [
    "**Time Series**\n",
    "* `df.resample('M').mean()` # Monthly average\n",
    "* `df.rolling(window=7).mean()`\n",
    "* `df.shift(periods=1)` # Shift values\n",
    "* `pd.date_range('2024', periods=12, freq='M')`\n",
    "* `df.asfreq('D', method='ffill')`\n",
    "* `df['date'].dt.strftime('%Y-%m-%d')`"
   ],
   "id": "20f7ac3e616668d8"
  },
  {
   "metadata": {},
   "cell_type": "markdown",
   "source": [
    "**Advanced Features**\n",
    "* `df.pipe(func)` # Method chaining\n",
    "* `pd.eval('df1 + df2')` # Expression eval\n",
    "* `df.memory_usage(deep=True)`\n",
    "* `df.select_dtypes(include=['number'])`\n",
    "* `df.nlargest(5, 'col')` # Top N values\n",
    "* `df.explode('col')` # Expand list column\n"
   ],
   "id": "d6b82d8da2b95ce4"
  },
  {
   "metadata": {},
   "cell_type": "markdown",
   "source": [
    "**Tips & Best Practices**\n",
    "* Use `.copy()` when creating DataFrame views\n",
    "* Chain operations with method chaining\n",
    "* Set `dtype='category'` for categorical columns\n",
    "* Use `inplace=True` carefully, prefer reassignment"
   ],
   "id": "e66520b006cc459e"
  }
 ],
 "metadata": {
  "kernelspec": {
   "display_name": "Python 3",
   "language": "python",
   "name": "python3"
  },
  "language_info": {
   "codemirror_mode": {
    "name": "ipython",
    "version": 2
   },
   "file_extension": ".py",
   "mimetype": "text/x-python",
   "name": "python",
   "nbconvert_exporter": "python",
   "pygments_lexer": "ipython2",
   "version": "2.7.6"
  }
 },
 "nbformat": 4,
 "nbformat_minor": 5
}
