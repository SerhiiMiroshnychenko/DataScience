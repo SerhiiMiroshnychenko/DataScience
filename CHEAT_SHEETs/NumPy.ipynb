{
 "cells": [
  {
   "metadata": {},
   "cell_type": "markdown",
   "source": "## 🐍 Python NumPy Essentials for Data Science and ML",
   "id": "cd944ac358a0aaae"
  },
  {
   "metadata": {},
   "cell_type": "markdown",
   "source": [
    "**1. Array Creation & Attributes**\n",
    "* `np.array()` - # Create array from list/tuple\n",
    "* `np.zeros()` - # Create array filled with zeros\n",
    "* `np.ones()` - # Create array filled with ones\n",
    "* `np.arange()` - # Create sequence with specified step\n",
    "* `np.shape` - # Get dimensions of array\n",
    "* `np.dtype` - # Get data type of array"
   ],
   "id": "ba2d598f756f52b9"
  },
  {
   "metadata": {},
   "cell_type": "markdown",
   "source": [
    "**2. Array Manipulation & Reshaping**\n",
    "* `np.reshape()` - # Restructure array to new dimensions\n",
    "* `np.concatenate()` - # Join arrays along existing axis\n",
    "* `np.vstack()` - # Stack arrays vertically\n",
    "* `np.hstack()` - # Stack arrays horizontally\n",
    "* `np.split()` - # Split array at specified indices\n",
    "* `np.transpose()` - # Transpose array\n",
    "* `np.resize()` - # Resize array to given shape"
   ],
   "id": "5aabc36958c6e0c4"
  },
  {
   "metadata": {},
   "cell_type": "markdown",
   "source": [
    "**3. Statistical Analysis**\n",
    "* `np.sum()` - # Calculate sum of array elements\n",
    "* `np.mean()` - # Calculate average of array elements\n",
    "* `np.median()` - # Median of array elements\n",
    "* `np.std()` - # Calculate standard deviation\n",
    "* `np.var()` - # Compute variance of elements\n",
    "* `np.cov()` - # Covariance matrix of arrays\n",
    "* `np.corrcoef()` - # Correlation coefficients among arrays\n",
    "* `np.min()` - # Find minimum value\n",
    "* `np.max()` - # Find maximum value\n",
    "* `np.random.rand()` - # Generate random values 0-1\n",
    "* `np.random.randn()` - # Generate random normal distribution\n",
    "* `np.histogram()` - # Create histogram with specified bins"
   ],
   "id": "d6f8cb32cfbd6655"
  },
  {
   "metadata": {},
   "cell_type": "markdown",
   "source": [
    "**4. Indexing & Filtering**\n",
    "* `np.extract()` - # Extract elements meeting a condition\n",
    "* `np.where()` - # Return elements based on condition\n",
    "* `np.isnan()` - # Check for NaN values\n",
    "* `np.sort()` - # Sort array elements\n",
    "* `np.unique()` - # Get unique values from array"
   ],
   "id": "42f8c6a65694b6b8"
  },
  {
   "metadata": {},
   "cell_type": "markdown",
   "source": [
    "**5. File I/O**\n",
    "* `np.save()` - # Save array to .npy file\n",
    "* `np.load()` - # Load array from .npy file"
   ],
   "id": "e5503ad92b4cdebd"
  }
 ],
 "metadata": {
  "kernelspec": {
   "display_name": "Python 3",
   "language": "python",
   "name": "python3"
  },
  "language_info": {
   "codemirror_mode": {
    "name": "ipython",
    "version": 2
   },
   "file_extension": ".py",
   "mimetype": "text/x-python",
   "name": "python",
   "nbconvert_exporter": "python",
   "pygments_lexer": "ipython2",
   "version": "2.7.6"
  }
 },
 "nbformat": 4,
 "nbformat_minor": 5
}
